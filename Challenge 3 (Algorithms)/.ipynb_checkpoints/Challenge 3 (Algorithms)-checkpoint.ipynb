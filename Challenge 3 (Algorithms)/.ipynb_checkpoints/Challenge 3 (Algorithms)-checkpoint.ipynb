{
 "cells": [
  {
   "cell_type": "code",
   "execution_count": 3,
   "metadata": {},
   "outputs": [],
   "source": [
    "# Q2\n",
    "\n",
    "line = [int(s) for s in input().split()]\n",
    "N = line[1]\n",
    "main_list = list([i] for i in range(1,N+1))\n",
    "core = [main_list.copy()]\n",
    "# order_of_switch = []\n",
    "\n",
    "for i in range(line[0]):\n",
    "    s = input().split()\n",
    "    # print('------', s)\n",
    "    if s[0] =='PUSH':\n",
    "        # print(main_list)\n",
    "        a = int(s[1])\n",
    "        b = int(s[2])\n",
    "        ia, ib = -1,-1\n",
    "        for i in range(len(main_list)):\n",
    "            sublist = main_list[i]\n",
    "            if a in sublist:\n",
    "                ia = i\n",
    "            if b in sublist:\n",
    "                ib = i\n",
    "        # print(ia,ib)\n",
    "        if ia != ib:\n",
    "            ib_list = main_list.pop(ib)\n",
    "            main_list[ia].extend(ib_list)\n",
    "        core.append(main_list.copy())\n",
    "        # order_of_switch.append((a,b))\n",
    "\n",
    "    if s[0] == 'POP':\n",
    "        # last_switch = order_of_switch.pop(-1)\n",
    "        core.pop(-1)\n",
    "        main_list = core[-1].copy()\n",
    "    print(len(main_list))"
   ]
  },
  {
   "cell_type": "code",
   "execution_count": 24,
   "metadata": {},
   "outputs": [],
   "source": [
    "def count_connected_groups(adj):\n",
    "    def count_grps(idx,adj, s):\n",
    "        nei = [idx] + s\n",
    "        nodes_to_check[idx] = 1\n",
    "        for i in range(N):\n",
    "            if (i not in nei) and adj[idx][i] !=0:\n",
    "                count_grps(i,adj, nei)\n",
    "    N = len(adj)\n",
    "    nodes_to_check = [0 for i in range(N)]\n",
    "    start = 0\n",
    "    grps = 0\n",
    "    count = 0\n",
    "    i=0\n",
    "    \n",
    "    while i < N:\n",
    "        if nodes_to_check[i] == 0:\n",
    "            count +=1\n",
    "            count_grps(i, adj, [])\n",
    "        i +=1\n",
    "    return count"
   ]
  },
  {
   "cell_type": "code",
   "execution_count": 20,
   "metadata": {},
   "outputs": [
    {
     "data": {
      "text/plain": [
       "[[1, 1, 0, 0, 0],\n",
       " [1, 1, 1, 0, 0],\n",
       " [0, 1, 1, 0, 0],\n",
       " [0, 0, 0, 1, 0],\n",
       " [0, 0, 0, 0, 1]]"
      ]
     },
     "execution_count": 20,
     "metadata": {},
     "output_type": "execute_result"
    }
   ],
   "source": [
    "adj_2 = ((1, 1, 0, 0, 0),\n",
    "         (1, 1, 0, 0, 0),\n",
    "         (0, 0, 1, 0, 0),\n",
    "         (0, 0, 0, 1, 0),\n",
    "         (0, 0, 0, 0, 1))\n",
    "a3 = [[1, 1, 0, 0, 0], [1, 1, 1, 0, 0], [0, 1, 1, 0, 0], [0, 0, 0, 1, 0], [0, 0, 0, 0, 1]]\n",
    "a3"
   ]
  },
  {
   "cell_type": "code",
   "execution_count": 25,
   "metadata": {
    "scrolled": true
   },
   "outputs": [
    {
     "data": {
      "text/plain": [
       "4"
      ]
     },
     "execution_count": 25,
     "metadata": {},
     "output_type": "execute_result"
    }
   ],
   "source": [
    "count_connected_groups(adj_2)"
   ]
  },
  {
   "cell_type": "code",
   "execution_count": 26,
   "metadata": {
    "scrolled": true
   },
   "outputs": [
    {
     "data": {
      "text/plain": [
       "3"
      ]
     },
     "execution_count": 26,
     "metadata": {},
     "output_type": "execute_result"
    }
   ],
   "source": [
    "count_connected_groups(a3)"
   ]
  }
 ],
 "metadata": {
  "kernelspec": {
   "display_name": "Python 3",
   "language": "python",
   "name": "python3"
  },
  "language_info": {
   "codemirror_mode": {
    "name": "ipython",
    "version": 3
   },
   "file_extension": ".py",
   "mimetype": "text/x-python",
   "name": "python",
   "nbconvert_exporter": "python",
   "pygments_lexer": "ipython3",
   "version": "3.6.2"
  }
 },
 "nbformat": 4,
 "nbformat_minor": 2
}
